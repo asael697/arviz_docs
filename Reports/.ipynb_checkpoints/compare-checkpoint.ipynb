{
 "cells": [
  {
   "cell_type": "raw",
   "id": "315aceea-f6d5-445c-bc18-74bba9b21d43",
   "metadata": {},
   "source": [
    "---\n",
    "title: \"Evaluation of the plot_compare effectiveness\"\n",
    "author: \"Asael Alonzo M\"\n",
    "format: \n",
    "  html:\n",
    "    toc: true\n",
    "    code-copy: true\n",
    "    code-fold: true\n",
    "    self-contained: true\n",
    "    smooth-scroll: true\n",
    "    anchor-sections: true\n",
    "jupyter: python3\n",
    "---"
   ]
  },
  {
   "cell_type": "markdown",
   "id": "322c356f-8756-4bdb-b770-f79f7eb46ef8",
   "metadata": {},
   "source": [
    "## Compare plots\n",
    "\n",
    "The `plot_compare()` function from `ArviZ` helps visualize a comparison between multiple models using Leave-One-Out Cross-Validation (LOO-CV) which is approximated using Pareto-Smooth-Importance-Sampling (PSIS). \n",
    "\n",
    "Currently, there is no equivalent function in the [bayesplot](https://mc-stan.org/bayesplot/reference/MCMC-intervals.html) package. \n",
    "\n",
    "## Analysis of current defaults\n",
    "\n",
    "@fig-compare shows the current defaults for comparing two different models that explain the eight schools dataset. The model displays with white empty points the models elpds, and the black dots are the elpd's in sample estimates."
   ]
  },
  {
   "cell_type": "code",
   "execution_count": 20,
   "id": "6cc02ddd-3872-4f08-8d46-e998c8065e0a",
   "metadata": {},
   "outputs": [
    {
     "data": {
      "image/png": "[encoded data removed]",
      "text/plain": [
       "<Figure size 600x200 with 1 Axes>"
      ]
     },
     "metadata": {},
     "output_type": "display_data"
    }
   ],
   "source": [
    "#| label: fig-compare\n",
    "#| fig-cap: \"Posterior estimates for theta, 8 schools example, chains combined\"\n",
    "\n",
    "import matplotlib.pyplot as plt\n",
    "import arviz as az\n",
    "az.style.use(\"arviz-darkgrid\")\n",
    "\n",
    "model_compare = az.compare({'8 schools: centered': az.load_arviz_data('centered_eight'),\n",
    "                            '8 schools: non-centered': az.load_arviz_data('non_centered_eight')})\n",
    "\n",
    "az.plot_compare(model_compare,order_by_rank=False)\n",
    "plt.show()"
   ]
  },
  {
   "cell_type": "markdown",
   "id": "1d2838ee-513a-4d7e-b89e-da2e7b20eca4",
   "metadata": {},
   "source": [
    "### Comments \n",
    "\n",
    "  + The`insample_dev = True` by default, then the plot presents both `in sample` and `default` elpd estimates, making the visualization a bit confusing when it is used for model comparison.\n",
    "  \n",
    "  + The default x-axis label  is incomplete, it should display \"log elpd_LOO\"visualization less clear.\n",
    "  \n",
    "  + The default x-axis label is incomplete and should display \"log elpd_LOO.\"\n",
    "\n",
    "## Analysis of usage advise\n",
    "\n",
    " + The documentation needs to be updated. The options `title` and `legend` display a function error.\n",
    " \n",
    " + The option `insample_dev` is `False` by default, but the plot in @fig-compare shows the in-sample estimates.\n",
    " \n",
    " + If  `insample_dev = True`, then `legend = True` as well.\n",
    " \n",
    " + The plot displayed in the documentation is not the same obtained in @fig-compare.\n",
    " \n",
    " + The standard error is displayed as a horizontal line, which seems more like a confidence interval.\n",
    " \n",
    "## Relevant Issues\n",
    "\n",
    "  + **#2115** `plot_compare` incorrectly places `min_ic` line and `ic_diff` triangles, when `order_by_rank=False`. "
   ]
  }
 ],
 "metadata": {
  "kernelspec": {
   "display_name": "Python 3 (ipykernel)",
   "language": "python",
   "name": "python3"
  },
  "language_info": {
   "codemirror_mode": {
    "name": "ipython",
    "version": 3
   },
   "file_extension": ".py",
   "mimetype": "text/x-python",
   "name": "python",
   "nbconvert_exporter": "python",
   "pygments_lexer": "ipython3",
   "version": "3.10.6"
  }
 },
 "nbformat": 4,
 "nbformat_minor": 5
}
