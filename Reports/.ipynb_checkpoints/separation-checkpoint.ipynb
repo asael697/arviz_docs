{
 "cells": [
  {
   "cell_type": "raw",
   "id": "01f3fb77-7786-4bf6-aa3d-491b7d723482",
   "metadata": {},
   "source": [
    "---\n",
    "title: \"Evaluation of the plot_separation effectiveness\"\n",
    "author: \"Asael Alonzo M\"\n",
    "format: \n",
    "  html:\n",
    "    toc: true\n",
    "    code-copy: true\n",
    "    code-fold: true\n",
    "    self-contained: true\n",
    "    smooth-scroll: true\n",
    "    anchor-sections: true\n",
    "jupyter: python3\n",
    "---"
   ]
  },
  {
   "cell_type": "markdown",
   "id": "cf6f0ad2-c1c8-4a2f-b0b2-65c2f0ac7adc",
   "metadata": {},
   "source": [
    "## Separation plots\n",
    "\n",
    "The `plot_separation` function from `ArviZ` helps visualize the posterior predictive distribution of binary outcome models. Model predictions are sorted and plotted using a color code according to the observed data.\n",
    "\n",
    "@fig-sep shows the predictive model for the classification model for the classification10d dataset."
   ]
  },
  {
   "cell_type": "code",
   "execution_count": 6,
   "id": "9c438c27-2e0b-4802-873a-806ff95d1734",
   "metadata": {},
   "outputs": [
    {
     "data": {
      "image/png": "[encoded data removed]",
      "text/plain": [
       "<Figure size 720x480 with 1 Axes>"
      ]
     },
     "metadata": {},
     "output_type": "display_data"
    }
   ],
   "source": [
    "#| label: fig-sep\n",
    "#| fig-cap: \"Trace and Density plots of the Centered model for the Eight school dataset.\"\n",
    "\n",
    "import arviz as az\n",
    "import matplotlib.pyplot as plt\n",
    "\n",
    "data = az.load_arviz_data('classification10d')\n",
    "az.style.use(\"arviz-darkgrid\")\n",
    "\n",
    "az.plot_separation(idata=data, y='outcome', y_hat='outcome')\n",
    "plt.show()"
   ]
  },
  {
   "cell_type": "markdown",
   "id": "72206c33-f1f7-4ca8-b061-490f783be7be",
   "metadata": {},
   "source": [
    "## Analysis of current defaults\n",
    " \n",
    " + The plot's default height size is too wide.\n",
    " \n",
    "## Analysis of usage advise\n",
    " \n",
    "  + update the plots description. \n",
    "  \n",
    "    + \"Model predictions are sorted and plotted using a color code according to the observed data. A model with no predictive power—i.e., would generate an even distribution of 0s and 1s along the column on the right-hand side. On the other hand, a model with perfect predictive power would produce a complete separation of the 0s and 1s.\"\n",
    "  \n",
    "\n",
    "## Relevant Issues\n",
    "\n",
    " + No relevant issues."
   ]
  }
 ],
 "metadata": {
  "kernelspec": {
   "display_name": "Python 3 (ipykernel)",
   "language": "python",
   "name": "python3"
  },
  "language_info": {
   "codemirror_mode": {
    "name": "ipython",
    "version": 3
   },
   "file_extension": ".py",
   "mimetype": "text/x-python",
   "name": "python",
   "nbconvert_exporter": "python",
   "pygments_lexer": "ipython3",
   "version": "3.9.12"
  }
 },
 "nbformat": 4,
 "nbformat_minor": 5
}
